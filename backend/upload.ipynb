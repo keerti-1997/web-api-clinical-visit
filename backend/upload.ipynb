{
 "cells": [
  {
   "cell_type": "code",
   "execution_count": 152,
   "metadata": {
    "scrolled": false
   },
   "outputs": [
    {
     "data": {
      "text/plain": [
       "<Response [200]>"
      ]
     },
     "execution_count": 152,
     "metadata": {},
     "output_type": "execute_result"
    }
   ],
   "source": [
    "import requests, json\n",
    "import numpy as np\n",
    "import pandas as pd \n",
    "url = 'https://inf551-project-48265.firebaseio.com/data.json'\n",
    "df = pd.read_csv(\"Hack2018_ES.csv\") \n",
    "df.rename(columns = {'estado':'Visit_Status'     , 'tiempo_demora':'Time_Delay', 'poblacion':'City',\n",
    "                   'id_poblacion':'City_ID'      , 'edad_valor':'Patient_Age'  , 'cp':'Zipcode',\n",
    "                   'latitude_corregida':'LAT'    , 'longitud_corregida':'LON'  , 'patologia':'Pathology',\n",
    "                   'Fecha':'Date'                , 'id_tipo':'ID_Type'         , 'id_personal':'ID_Personal',\n",
    "                   'nasistencias':'N_Home_Visits','menor':'Is_Patient_Minor'   , 'Geopoint_corregido':'Geo_Point'\n",
    "                    }, inplace = True)\n",
    "# df = df[0:10]\n",
    "for index, row in df.iterrows():\n",
    "    df.at[index, 'City']      = df.at[index, 'City'].replace('�', '')\n",
    "    df.at[index, 'Pathology'] = df.at[index, 'Pathology'].replace('�', '')\n",
    "    if np.isnan(df.at[index, 'Patient_Age']):\n",
    "        df.at[index, 'Patient_Age'] = -1\n",
    "    if np.isnan(df.at[index, 'Zipcode']):\n",
    "        df.at[index, 'Zipcode'] = -1\n",
    "data_dict = df.to_dict('index')\n",
    "data_json = json.dumps(data_dict)\n",
    "response = requests.put(url, data_json)\n",
    "response"
   ]
  }
 ],
 "metadata": {
  "kernelspec": {
   "display_name": "Python 3",
   "language": "python",
   "name": "python3"
  },
  "language_info": {
   "codemirror_mode": {
    "name": "ipython",
    "version": 3
   },
   "file_extension": ".py",
   "mimetype": "text/x-python",
   "name": "python",
   "nbconvert_exporter": "python",
   "pygments_lexer": "ipython3",
   "version": "3.7.4"
  }
 },
 "nbformat": 4,
 "nbformat_minor": 2
}
